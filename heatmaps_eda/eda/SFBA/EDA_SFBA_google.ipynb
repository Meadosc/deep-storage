{
 "cells": [
  {
   "cell_type": "markdown",
   "id": "administrative-auckland",
   "metadata": {},
   "source": [
    "# Google SFBA google search EDA"
   ]
  },
  {
   "cell_type": "code",
   "execution_count": 1,
   "id": "consolidated-press",
   "metadata": {},
   "outputs": [],
   "source": [
    "import googlemaps\n",
    "import pandas as pd\n",
    "\n",
    "from heatmaps.helper.get_api_key import get_google_api_key"
   ]
  },
  {
   "cell_type": "code",
   "execution_count": 2,
   "id": "raised-chicken",
   "metadata": {},
   "outputs": [],
   "source": [
    "gmaps = googlemaps.Client(key=get_google_api_key())"
   ]
  },
  {
   "cell_type": "markdown",
   "id": "laden-hundred",
   "metadata": {},
   "source": [
    "## Seach using .places\n",
    "This will return multiple places"
   ]
  },
  {
   "cell_type": "code",
   "execution_count": 7,
   "id": "complimentary-liberal",
   "metadata": {},
   "outputs": [
    {
     "name": "stdout",
     "output_type": "stream",
     "text": [
      "Googleplex\n",
      "    ['point_of_interest', 'establishment']\n",
      "    1600 Amphitheatre Pkwy, Mountain View, CA 94043, United States\n",
      "Google Building PLY3\n",
      "    ['point_of_interest', 'establishment']\n",
      "    Mountain View, CA 94043, United States\n",
      "Google Quad Campus\n",
      "    ['point_of_interest', 'establishment']\n",
      "    399 N Whisman Rd, Mountain View, CA 94043, United States\n",
      "Google Building PLY1\n",
      "    ['point_of_interest', 'establishment']\n",
      "    1500 Plymouth St, Mountain View, CA 94043, United States\n",
      "Google 1098 Alta\n",
      "    ['point_of_interest', 'establishment']\n",
      "    1098 Alta Ave, Mountain View, CA 94043, United States\n"
     ]
    }
   ],
   "source": [
    "result = gmaps.places(\n",
    "    f\"google office in mountain view CA \",\n",
    "    )\n",
    "for x in result['results'][:5]:\n",
    "    print(x['name'])\n",
    "    print(f\"    {x['types']}\")\n",
    "    print(f\"    {x['formatted_address']}\")"
   ]
  },
  {
   "cell_type": "markdown",
   "id": "endangered-spare",
   "metadata": {},
   "source": [
    "## Insights from above data\n",
    "Same results and conclusions as apple, tesla, and lockheed martin. Good.\n",
    "\n",
    "-------------------------------------------"
   ]
  },
  {
   "cell_type": "code",
   "execution_count": 4,
   "id": "sixth-quantum",
   "metadata": {},
   "outputs": [
    {
     "data": {
      "text/html": [
       "<div>\n",
       "<style scoped>\n",
       "    .dataframe tbody tr th:only-of-type {\n",
       "        vertical-align: middle;\n",
       "    }\n",
       "\n",
       "    .dataframe tbody tr th {\n",
       "        vertical-align: top;\n",
       "    }\n",
       "\n",
       "    .dataframe thead th {\n",
       "        text-align: right;\n",
       "    }\n",
       "</style>\n",
       "<table border=\"1\" class=\"dataframe\">\n",
       "  <thead>\n",
       "    <tr style=\"text-align: right;\">\n",
       "      <th></th>\n",
       "      <th>li_permalink</th>\n",
       "      <th>company_name</th>\n",
       "      <th>landing_url</th>\n",
       "      <th>industry</th>\n",
       "      <th>best_city</th>\n",
       "      <th>canonical_locality</th>\n",
       "      <th>latitude</th>\n",
       "      <th>longitude</th>\n",
       "      <th>curr_canonical_locality_count</th>\n",
       "      <th>1_yr_canonical_locality_count</th>\n",
       "      <th>3_yr_canonical_locality_count</th>\n",
       "    </tr>\n",
       "  </thead>\n",
       "  <tbody>\n",
       "    <tr>\n",
       "      <th>7</th>\n",
       "      <td>google</td>\n",
       "      <td>Google</td>\n",
       "      <td>google.com</td>\n",
       "      <td>Internet</td>\n",
       "      <td>Mountain View, CA</td>\n",
       "      <td>Silicon Valley</td>\n",
       "      <td>37.3861</td>\n",
       "      <td>-122.084</td>\n",
       "      <td>362</td>\n",
       "      <td>351.0</td>\n",
       "      <td>275.0</td>\n",
       "    </tr>\n",
       "    <tr>\n",
       "      <th>77</th>\n",
       "      <td>google</td>\n",
       "      <td>Google</td>\n",
       "      <td>google.com</td>\n",
       "      <td>Internet</td>\n",
       "      <td>San Jose, California</td>\n",
       "      <td>San Jose, California</td>\n",
       "      <td>37.3382</td>\n",
       "      <td>-121.886</td>\n",
       "      <td>48</td>\n",
       "      <td>44.0</td>\n",
       "      <td>29.0</td>\n",
       "    </tr>\n",
       "    <tr>\n",
       "      <th>153</th>\n",
       "      <td>google</td>\n",
       "      <td>Google</td>\n",
       "      <td>google.com</td>\n",
       "      <td>Internet</td>\n",
       "      <td>San Francisco, California</td>\n",
       "      <td>San Francisco, California</td>\n",
       "      <td>37.7749</td>\n",
       "      <td>-122.419</td>\n",
       "      <td>27</td>\n",
       "      <td>24.0</td>\n",
       "      <td>15.0</td>\n",
       "    </tr>\n",
       "    <tr>\n",
       "      <th>388</th>\n",
       "      <td>google</td>\n",
       "      <td>Google</td>\n",
       "      <td>google.com</td>\n",
       "      <td>Internet</td>\n",
       "      <td>Fremont, California</td>\n",
       "      <td>Fremont, California</td>\n",
       "      <td>37.5485</td>\n",
       "      <td>-121.989</td>\n",
       "      <td>11</td>\n",
       "      <td>8.0</td>\n",
       "      <td>7.0</td>\n",
       "    </tr>\n",
       "    <tr>\n",
       "      <th>756</th>\n",
       "      <td>google</td>\n",
       "      <td>Google</td>\n",
       "      <td>google.com</td>\n",
       "      <td>Internet</td>\n",
       "      <td>Alameda, California</td>\n",
       "      <td>Oakland, California</td>\n",
       "      <td>37.8044</td>\n",
       "      <td>-122.271</td>\n",
       "      <td>6</td>\n",
       "      <td>8.0</td>\n",
       "      <td>5.0</td>\n",
       "    </tr>\n",
       "  </tbody>\n",
       "</table>\n",
       "</div>"
      ],
      "text/plain": [
       "    li_permalink company_name landing_url  industry  \\\n",
       "7         google       Google  google.com  Internet   \n",
       "77        google       Google  google.com  Internet   \n",
       "153       google       Google  google.com  Internet   \n",
       "388       google       Google  google.com  Internet   \n",
       "756       google       Google  google.com  Internet   \n",
       "\n",
       "                     best_city         canonical_locality  latitude  \\\n",
       "7            Mountain View, CA             Silicon Valley   37.3861   \n",
       "77        San Jose, California       San Jose, California   37.3382   \n",
       "153  San Francisco, California  San Francisco, California   37.7749   \n",
       "388        Fremont, California        Fremont, California   37.5485   \n",
       "756        Alameda, California        Oakland, California   37.8044   \n",
       "\n",
       "     longitude  curr_canonical_locality_count  1_yr_canonical_locality_count  \\\n",
       "7     -122.084                            362                          351.0   \n",
       "77    -121.886                             48                           44.0   \n",
       "153   -122.419                             27                           24.0   \n",
       "388   -121.989                             11                            8.0   \n",
       "756   -122.271                              6                            8.0   \n",
       "\n",
       "     3_yr_canonical_locality_count  \n",
       "7                            275.0  \n",
       "77                            29.0  \n",
       "153                           15.0  \n",
       "388                            7.0  \n",
       "756                            5.0  "
      ]
     },
     "execution_count": 4,
     "metadata": {},
     "output_type": "execute_result"
    }
   ],
   "source": [
    "df = pd.read_excel('../../data/SFBA_HWEs.xlsx')\n",
    "df2 = df.loc[df['company_name']=='Google']\n",
    "df2.head(10)"
   ]
  },
  {
   "cell_type": "code",
   "execution_count": 8,
   "id": "internal-jones",
   "metadata": {},
   "outputs": [
    {
     "name": "stdout",
     "output_type": "stream",
     "text": [
      "Google Express\n",
      "    ['point_of_interest', 'establishment']\n",
      "    2460 N 1st St, San Jose, CA 95131, United States\n",
      "Googleplex\n",
      "    ['point_of_interest', 'establishment']\n",
      "    1600 Amphitheatre Pkwy, Mountain View, CA 94043, United States\n",
      "Netkiller - Google Workspace, Chromebook partner\n",
      "    ['point_of_interest', 'establishment']\n",
      "    3031 Tisch Way, San Jose, CA 95128, United States\n",
      "Google Building 1330\n",
      "    ['point_of_interest', 'establishment']\n",
      "    1330 Geneva Dr, Sunnyvale, CA 94089, United States\n",
      "Google TC3\n",
      "    ['point_of_interest', 'establishment']\n",
      "    805 11th Ave, Sunnyvale, CA 94089, United States\n"
     ]
    }
   ],
   "source": [
    "result = gmaps.places(\n",
    "    f\"google office in san jose CA \",\n",
    "    )\n",
    "for x in result['results'][:5]:\n",
    "    print(x['name'])\n",
    "    print(f\"    {x['types']}\")\n",
    "    print(f\"    {x['formatted_address']}\")"
   ]
  },
  {
   "cell_type": "markdown",
   "id": "twenty-middle",
   "metadata": {},
   "source": [
    "result = gmaps.places(\n",
    "    f\"google office in san francisco CA \",\n",
    "    )\n",
    "for x in result['results'][:5]:\n",
    "    print(x['name'])\n",
    "    print(f\"    {x['types']}\")\n",
    "    print(f\"    {x['formatted_address']}\")"
   ]
  },
  {
   "cell_type": "code",
   "execution_count": 10,
   "id": "prescribed-howard",
   "metadata": {},
   "outputs": [
    {
     "name": "stdout",
     "output_type": "stream",
     "text": [
      "Googleplex\n",
      "    ['point_of_interest', 'establishment']\n",
      "    1600 Amphitheatre Pkwy, Mountain View, CA 94043, United States\n",
      "Fremont office\n",
      "    ['doctor', 'health', 'point_of_interest', 'establishment']\n",
      "    1895 Mowry Ave, Fremont, CA 94538, United States\n",
      "Google TC3\n",
      "    ['point_of_interest', 'establishment']\n",
      "    805 11th Ave, Sunnyvale, CA 94089, United States\n",
      "Google Building PLY3\n",
      "    ['point_of_interest', 'establishment']\n",
      "    Mountain View, CA 94043, United States\n",
      "Google GWC1\n",
      "    ['point_of_interest', 'establishment']\n",
      "    2025 Garcia Ave, Mountain View, CA 94043, United States\n"
     ]
    }
   ],
   "source": [
    "result = gmaps.places(\n",
    "    f\"google office in fremont CA \",\n",
    "    )\n",
    "for x in result['results'][:5]:\n",
    "    print(x['name'])\n",
    "    print(f\"    {x['types']}\")\n",
    "    print(f\"    {x['formatted_address']}\")"
   ]
  },
  {
   "cell_type": "code",
   "execution_count": 11,
   "id": "practical-duration",
   "metadata": {},
   "outputs": [
    {
     "name": "stdout",
     "output_type": "stream",
     "text": [
      "Google San Francisco\n",
      "    ['point_of_interest', 'establishment']\n",
      "    345 Spear St, San Francisco, CA 94105, United States\n",
      "Google NAS\n",
      "    ['point_of_interest', 'establishment']\n",
      "    NAS, Alameda, CA 94501, United States\n",
      "Pacific Workplaces - Office Space Oakland\n",
      "    ['real_estate_agency', 'point_of_interest', 'establishment']\n",
      "    1300 Clay St #600, Oakland, CA 94612, United States\n",
      "USPS Carrier Annex\n",
      "    ['point_of_interest', 'establishment']\n",
      "    577 W Grand Ave, Oakland, CA 94612, United States\n",
      "Oakland Main Post Office\n",
      "    ['post_office', 'finance', 'point_of_interest', 'establishment']\n",
      "    1675 7th St, Oakland, CA 94615, United States\n"
     ]
    }
   ],
   "source": [
    "result = gmaps.places(\n",
    "    f\"google office in oakland CA \",\n",
    "    )\n",
    "for x in result['results'][:5]:\n",
    "    print(x['name'])\n",
    "    print(f\"    {x['types']}\")\n",
    "    print(f\"    {x['formatted_address']}\")"
   ]
  },
  {
   "cell_type": "markdown",
   "id": "backed-holiday",
   "metadata": {},
   "source": [
    "## Insights from above data \n",
    "\n",
    "The same search style works for all 5 entries for google, and it gets reasonable results for each."
   ]
  },
  {
   "cell_type": "code",
   "execution_count": null,
   "id": "statutory-jenny",
   "metadata": {},
   "outputs": [],
   "source": []
  }
 ],
 "metadata": {
  "kernelspec": {
   "display_name": "Python 3",
   "language": "python",
   "name": "python3"
  },
  "language_info": {
   "codemirror_mode": {
    "name": "ipython",
    "version": 3
   },
   "file_extension": ".py",
   "mimetype": "text/x-python",
   "name": "python",
   "nbconvert_exporter": "python",
   "pygments_lexer": "ipython3",
   "version": "3.9.2"
  }
 },
 "nbformat": 4,
 "nbformat_minor": 5
}
