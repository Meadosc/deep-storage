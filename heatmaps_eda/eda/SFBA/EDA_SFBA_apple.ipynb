{
 "cells": [
  {
   "cell_type": "markdown",
   "id": "stuffed-cherry",
   "metadata": {},
   "source": [
    "# Apple SFBA google search EDA"
   ]
  },
  {
   "cell_type": "code",
   "execution_count": 2,
   "id": "blocked-client",
   "metadata": {},
   "outputs": [],
   "source": [
    "import googlemaps\n",
    "import pandas as pd\n",
    "\n",
    "from heatmaps.helper.get_api_key import get_google_api_key"
   ]
  },
  {
   "cell_type": "code",
   "execution_count": 3,
   "id": "engaged-wilson",
   "metadata": {},
   "outputs": [],
   "source": [
    "gmaps = googlemaps.Client(key=get_google_api_key())"
   ]
  },
  {
   "cell_type": "markdown",
   "id": "legendary-beast",
   "metadata": {},
   "source": [
    "## Search using .find_place\n",
    "This will return a sinlge result."
   ]
  },
  {
   "cell_type": "code",
   "execution_count": 4,
   "id": "jewish-jenny",
   "metadata": {},
   "outputs": [],
   "source": [
    "result = gmaps.find_place(\n",
    "    input=f\"apple office in cupertino CA \",\n",
    "    input_type='textquery',\n",
    "    fields=[\"business_status\", \"formatted_address\", \"geometry\", \"icon\", \"name\", \"place_id\", \"plus_code\", \"types\"]\n",
    "    )"
   ]
  },
  {
   "cell_type": "code",
   "execution_count": 5,
   "id": "italian-benefit",
   "metadata": {},
   "outputs": [
    {
     "data": {
      "text/plain": [
       "{'candidates': [{'business_status': 'OPERATIONAL',\n",
       "   'formatted_address': 'One Apple Park Way, Cupertino, CA 95014, United States',\n",
       "   'geometry': {'location': {'lat': 37.3327282, 'lng': -122.0054186},\n",
       "    'viewport': {'northeast': {'lat': 37.33407912989271,\n",
       "      'lng': -122.0042683201073},\n",
       "     'southwest': {'lat': 37.33137947010727, 'lng': -122.0069679798927}}},\n",
       "   'icon': 'https://maps.gstatic.com/mapfiles/place_api/icons/v1/png_71/shopping-71.png',\n",
       "   'name': 'Apple Park',\n",
       "   'place_id': 'ChIJ_Yjh6Za1j4AR8IgGUZGDDTs',\n",
       "   'plus_code': {'compound_code': '8XMV+3R Cupertino, California',\n",
       "    'global_code': '849V8XMV+3R'},\n",
       "   'types': ['electronics_store',\n",
       "    'point_of_interest',\n",
       "    'store',\n",
       "    'establishment']}],\n",
       " 'status': 'OK'}"
      ]
     },
     "execution_count": 5,
     "metadata": {},
     "output_type": "execute_result"
    }
   ],
   "source": [
    "result"
   ]
  },
  {
   "cell_type": "markdown",
   "id": "preceding-findings",
   "metadata": {},
   "source": [
    "## Seach using .places\n",
    "This will return multiple places. How do I filter it?"
   ]
  },
  {
   "cell_type": "code",
   "execution_count": 27,
   "id": "tight-synthesis",
   "metadata": {},
   "outputs": [],
   "source": [
    "result_2 = gmaps.places(\n",
    "    f\"apple office in cupertino CA \",\n",
    "    )"
   ]
  },
  {
   "cell_type": "code",
   "execution_count": 38,
   "id": "laughing-caution",
   "metadata": {},
   "outputs": [
    {
     "data": {
      "text/plain": [
       "dict_keys(['business_status', 'formatted_address', 'geometry', 'icon', 'name', 'photos', 'place_id', 'plus_code', 'price_level', 'rating', 'reference', 'types', 'user_ratings_total'])"
      ]
     },
     "execution_count": 38,
     "metadata": {},
     "output_type": "execute_result"
    }
   ],
   "source": [
    "result_2['results'][0].keys()"
   ]
  },
  {
   "cell_type": "code",
   "execution_count": 42,
   "id": "desperate-campbell",
   "metadata": {},
   "outputs": [
    {
     "name": "stdout",
     "output_type": "stream",
     "text": [
      "Apple Park\n",
      "    ['electronics_store', 'point_of_interest', 'store', 'establishment']\n",
      "    One Apple Park Way, Cupertino, CA 95014, United States\n",
      "Apple Park Visitor Center\n",
      "    ['electronics_store', 'point_of_interest', 'store', 'establishment']\n",
      "    10600 N Tantau Ave, Cupertino, CA 95014, United States\n",
      "Apple\n",
      "    ['point_of_interest', 'establishment']\n",
      "    10500 N De Anza Blvd, Cupertino, CA 95014, United States\n",
      "Apple Vallco Parkway\n",
      "    ['point_of_interest', 'establishment']\n",
      "    19333 Vallco Pkwy, Cupertino, CA 95014, United States\n",
      "Apple Park\n",
      "    ['point_of_interest', 'establishment']\n",
      "    10955 N Tantau Ave, Cupertino, CA 95014, United States\n",
      "Apple\n",
      "    ['point_of_interest', 'establishment']\n",
      "    Bandley Six, Bandley Dr, Cupertino, CA 95014, United States\n",
      "Apple Stevens Creek 1 (SC01)\n",
      "    ['point_of_interest', 'establishment']\n",
      "    19925 Stevens Creek Blvd, Cupertino, CA 95014, United States\n",
      "Apple campus\n",
      "    ['point_of_interest', 'establishment']\n",
      "    Results Way 16, 16, Cupertino, CA 95014, United States\n",
      "Apple Infinite Loop\n",
      "    ['electronics_store', 'point_of_interest', 'store', 'establishment']\n",
      "    One Infinite Loop, Cupertino, CA 95014, United States\n",
      "Apple DeAnza 2\n",
      "    ['point_of_interest', 'establishment']\n",
      "    n 95014, 10201 N De Anza Blvd, Cupertino, CA 95014, United States\n",
      "Apple Building\n",
      "    ['point_of_interest', 'establishment']\n",
      "    10517-10575 N De Anza Blvd, Cupertino, CA 95014, United States\n",
      "De Anza 4 (Apple Inc.)\n",
      "    ['point_of_interest', 'establishment']\n",
      "    10101 N De Anza Blvd, Cupertino, CA 95014, United States\n",
      "Apple Park Tantau Reception\n",
      "    ['point_of_interest', 'establishment']\n",
      "    10503 N Tantau Ave, Cupertino, CA 95014, United States\n",
      "DA05 Apple\n",
      "    ['point_of_interest', 'establishment']\n",
      "    10001 N De Anza Blvd, Cupertino, CA 95014, United States\n",
      "Apple Tantau 9\n",
      "    ['point_of_interest', 'establishment']\n",
      "    10335 N Tantau Ave, Cupertino, CA 95014, United States\n",
      "Apple Tantau 11\n",
      "    ['point_of_interest', 'establishment']\n",
      "    10350 N Tantau Ave, Cupertino, CA 95014, United States\n",
      "Apple SC5\n",
      "    ['point_of_interest', 'establishment']\n",
      "    20425 Stevens Creek Blvd, Cupertino, CA 95014, United States\n",
      "Apple Tantau Seven\n",
      "    ['point_of_interest', 'establishment']\n",
      "    10100 N Tantau Ave, Cupertino, CA 95014, United States\n",
      "Apple VP3\n",
      "    ['point_of_interest', 'establishment']\n",
      "    19339 Stevens Creek Blvd, Cupertino, CA 95014, United States\n",
      "Apple Tantau 11\n",
      "    ['point_of_interest', 'establishment']\n",
      "    10350 N Tantau Ave, Cupertino, CA 95014, United States\n"
     ]
    }
   ],
   "source": [
    "for x in result_2['results']:\n",
    "    print(x['name'])\n",
    "    print(f\"    {x['types']}\")\n",
    "    print(f\"    {x['formatted_address']}\")"
   ]
  },
  {
   "cell_type": "markdown",
   "id": "homeless-album",
   "metadata": {},
   "source": [
    "## Insights from above data\n",
    "Apple offices in the SFBA are hard to find becuase there are so many retail options, but we have a couple tools that help us.\n",
    "1. We can narrow are search by 'best_city', which limits results\n",
    "2. We can exclude any places that have 'store' in the 'types' key.\n",
    "    * same goes for 'electronics_store'\n",
    "    * This concept extends to many types, such as 'gas_station'\n",
    "    \n",
    "--------------"
   ]
  },
  {
   "cell_type": "code",
   "execution_count": 13,
   "id": "naughty-thought",
   "metadata": {},
   "outputs": [
    {
     "data": {
      "text/html": [
       "<div>\n",
       "<style scoped>\n",
       "    .dataframe tbody tr th:only-of-type {\n",
       "        vertical-align: middle;\n",
       "    }\n",
       "\n",
       "    .dataframe tbody tr th {\n",
       "        vertical-align: top;\n",
       "    }\n",
       "\n",
       "    .dataframe thead th {\n",
       "        text-align: right;\n",
       "    }\n",
       "</style>\n",
       "<table border=\"1\" class=\"dataframe\">\n",
       "  <thead>\n",
       "    <tr style=\"text-align: right;\">\n",
       "      <th></th>\n",
       "      <th>li_permalink</th>\n",
       "      <th>company_name</th>\n",
       "      <th>landing_url</th>\n",
       "      <th>industry</th>\n",
       "      <th>best_city</th>\n",
       "      <th>canonical_locality</th>\n",
       "      <th>latitude</th>\n",
       "      <th>longitude</th>\n",
       "      <th>curr_canonical_locality_count</th>\n",
       "      <th>1_yr_canonical_locality_count</th>\n",
       "      <th>3_yr_canonical_locality_count</th>\n",
       "    </tr>\n",
       "  </thead>\n",
       "  <tbody>\n",
       "    <tr>\n",
       "      <th>0</th>\n",
       "      <td>apple</td>\n",
       "      <td>Apple</td>\n",
       "      <td>apple.com</td>\n",
       "      <td>Consumer Electronics</td>\n",
       "      <td>Cupertino, CA</td>\n",
       "      <td>Silicon Valley</td>\n",
       "      <td>37.3861</td>\n",
       "      <td>-122.084</td>\n",
       "      <td>1851</td>\n",
       "      <td>1723.0</td>\n",
       "      <td>1340.0</td>\n",
       "    </tr>\n",
       "    <tr>\n",
       "      <th>8</th>\n",
       "      <td>apple</td>\n",
       "      <td>Apple</td>\n",
       "      <td>apple.com</td>\n",
       "      <td>Consumer Electronics</td>\n",
       "      <td>San Jose, California</td>\n",
       "      <td>San Jose, California</td>\n",
       "      <td>37.3382</td>\n",
       "      <td>-121.886</td>\n",
       "      <td>346</td>\n",
       "      <td>291.0</td>\n",
       "      <td>200.0</td>\n",
       "    </tr>\n",
       "    <tr>\n",
       "      <th>43</th>\n",
       "      <td>apple</td>\n",
       "      <td>Apple</td>\n",
       "      <td>apple.com</td>\n",
       "      <td>Consumer Electronics</td>\n",
       "      <td>San Francisco, California</td>\n",
       "      <td>San Francisco, California</td>\n",
       "      <td>37.7749</td>\n",
       "      <td>-122.419</td>\n",
       "      <td>87</td>\n",
       "      <td>77.0</td>\n",
       "      <td>48.0</td>\n",
       "    </tr>\n",
       "    <tr>\n",
       "      <th>108</th>\n",
       "      <td>apple</td>\n",
       "      <td>Apple</td>\n",
       "      <td>apple.com</td>\n",
       "      <td>Consumer Electronics</td>\n",
       "      <td>Fremont, California</td>\n",
       "      <td>Fremont, California</td>\n",
       "      <td>37.5485</td>\n",
       "      <td>-121.989</td>\n",
       "      <td>36</td>\n",
       "      <td>34.0</td>\n",
       "      <td>24.0</td>\n",
       "    </tr>\n",
       "    <tr>\n",
       "      <th>371</th>\n",
       "      <td>apple</td>\n",
       "      <td>Apple</td>\n",
       "      <td>apple.com</td>\n",
       "      <td>Consumer Electronics</td>\n",
       "      <td>Berkeley, California</td>\n",
       "      <td>Berkeley, California</td>\n",
       "      <td>37.8715</td>\n",
       "      <td>-122.273</td>\n",
       "      <td>12</td>\n",
       "      <td>10.0</td>\n",
       "      <td>10.0</td>\n",
       "    </tr>\n",
       "    <tr>\n",
       "      <th>722</th>\n",
       "      <td>apple</td>\n",
       "      <td>Apple</td>\n",
       "      <td>apple.com</td>\n",
       "      <td>Consumer Electronics</td>\n",
       "      <td>Oakland, California</td>\n",
       "      <td>Oakland, California</td>\n",
       "      <td>37.8044</td>\n",
       "      <td>-122.271</td>\n",
       "      <td>6</td>\n",
       "      <td>5.0</td>\n",
       "      <td>3.0</td>\n",
       "    </tr>\n",
       "    <tr>\n",
       "      <th>1173</th>\n",
       "      <td>apple</td>\n",
       "      <td>Apple</td>\n",
       "      <td>apple.com</td>\n",
       "      <td>Consumer Electronics</td>\n",
       "      <td>San Francisco Bay und Umgebung</td>\n",
       "      <td>San Francisco Bay Area (Unallocated)</td>\n",
       "      <td>NaN</td>\n",
       "      <td>NaN</td>\n",
       "      <td>1</td>\n",
       "      <td>4.0</td>\n",
       "      <td>6.0</td>\n",
       "    </tr>\n",
       "  </tbody>\n",
       "</table>\n",
       "</div>"
      ],
      "text/plain": [
       "     li_permalink company_name landing_url              industry  \\\n",
       "0           apple        Apple   apple.com  Consumer Electronics   \n",
       "8           apple        Apple   apple.com  Consumer Electronics   \n",
       "43          apple        Apple   apple.com  Consumer Electronics   \n",
       "108         apple        Apple   apple.com  Consumer Electronics   \n",
       "371         apple        Apple   apple.com  Consumer Electronics   \n",
       "722         apple        Apple   apple.com  Consumer Electronics   \n",
       "1173        apple        Apple   apple.com  Consumer Electronics   \n",
       "\n",
       "                           best_city                    canonical_locality  \\\n",
       "0                      Cupertino, CA                        Silicon Valley   \n",
       "8               San Jose, California                  San Jose, California   \n",
       "43         San Francisco, California             San Francisco, California   \n",
       "108              Fremont, California                   Fremont, California   \n",
       "371             Berkeley, California                  Berkeley, California   \n",
       "722              Oakland, California                   Oakland, California   \n",
       "1173  San Francisco Bay und Umgebung  San Francisco Bay Area (Unallocated)   \n",
       "\n",
       "      latitude  longitude  curr_canonical_locality_count  \\\n",
       "0      37.3861   -122.084                           1851   \n",
       "8      37.3382   -121.886                            346   \n",
       "43     37.7749   -122.419                             87   \n",
       "108    37.5485   -121.989                             36   \n",
       "371    37.8715   -122.273                             12   \n",
       "722    37.8044   -122.271                              6   \n",
       "1173       NaN        NaN                              1   \n",
       "\n",
       "      1_yr_canonical_locality_count  3_yr_canonical_locality_count  \n",
       "0                            1723.0                         1340.0  \n",
       "8                             291.0                          200.0  \n",
       "43                             77.0                           48.0  \n",
       "108                            34.0                           24.0  \n",
       "371                            10.0                           10.0  \n",
       "722                             5.0                            3.0  \n",
       "1173                            4.0                            6.0  "
      ]
     },
     "execution_count": 13,
     "metadata": {},
     "output_type": "execute_result"
    }
   ],
   "source": [
    "df = pd.read_excel('../../data/SFBA_HWEs.xlsx')\n",
    "df2 = df.loc[df['company_name']=='Apple']\n",
    "df2.head(10)"
   ]
  },
  {
   "cell_type": "code",
   "execution_count": 9,
   "id": "voluntary-carolina",
   "metadata": {},
   "outputs": [
    {
     "name": "stdout",
     "output_type": "stream",
     "text": [
      "apple\n",
      "    ['point_of_interest', 'establishment']\n",
      "    Williams Rd, San Jose, CA 95129, United States\n",
      "Apple\n",
      "    ['point_of_interest', 'establishment']\n",
      "    2325 Orchard Pkwy, San Jose, CA 95131, United States\n",
      "Apple Inc\n",
      "    ['point_of_interest', 'establishment']\n",
      "    2845 Bowers Ave, Santa Clara, CA 95051, United States\n",
      "Apple Valley Fair\n",
      "    ['electronics_store', 'point_of_interest', 'store', 'establishment']\n",
      "    2855 Stevens Creek Blvd, Santa Clara, CA 95050, United States\n",
      "Apple\n",
      "    ['point_of_interest', 'establishment']\n",
      "    650 Almanor Ave, Sunnyvale, CA 94085, United States\n"
     ]
    }
   ],
   "source": [
    "result = gmaps.places(\n",
    "    f\"apple office in san jose CA \",\n",
    "    )\n",
    "for x in result['results'][:5]:\n",
    "    print(x['name'])\n",
    "    print(f\"    {x['types']}\")\n",
    "    print(f\"    {x['formatted_address']}\")"
   ]
  },
  {
   "cell_type": "code",
   "execution_count": 10,
   "id": "patient-beach",
   "metadata": {},
   "outputs": [
    {
     "name": "stdout",
     "output_type": "stream",
     "text": [
      "Apple Inc.\n",
      "    ['point_of_interest', 'establishment']\n",
      "    235 2nd St, San Francisco, CA 94105, United States\n",
      "Apple Union Square\n",
      "    ['electronics_store', 'point_of_interest', 'store', 'establishment']\n",
      "    300 Post St, San Francisco, CA 94108, United States\n",
      "Apple Chestnut Street\n",
      "    ['electronics_store', 'point_of_interest', 'store', 'establishment']\n",
      "    2125 Chestnut St, San Francisco, CA 94123, United States\n",
      "Apple Stonestown\n",
      "    ['electronics_store', 'point_of_interest', 'store', 'establishment']\n",
      "    3251 20th Ave, San Francisco, CA 94132, United States\n",
      "Keane Mac Repair\n",
      "    ['electronics_store', 'point_of_interest', 'store', 'establishment']\n",
      "    566 7th Ave, San Francisco, CA 94118, United States\n"
     ]
    }
   ],
   "source": [
    "result = gmaps.places(\n",
    "    f\"apple office in san francisco CA \",\n",
    "    )\n",
    "for x in result['results'][:5]:\n",
    "    print(x['name'])\n",
    "    print(f\"    {x['types']}\")\n",
    "    print(f\"    {x['formatted_address']}\")"
   ]
  },
  {
   "cell_type": "code",
   "execution_count": 11,
   "id": "existing-sigma",
   "metadata": {},
   "outputs": [
    {
     "name": "stdout",
     "output_type": "stream",
     "text": [
      "Apple\n",
      "    ['point_of_interest', 'establishment']\n",
      "    Fremont, CA 94538, United States\n",
      "Apple Data Center\n",
      "    ['electronics_store', 'point_of_interest', 'store', 'establishment']\n",
      "    39800 Eureka Dr, Newark, CA 94560, United States\n",
      "Apple Inc.\n",
      "    ['point_of_interest', 'establishment']\n",
      "    1070 E Arques Ave, Sunnyvale, CA 94085, United States\n",
      "Apple\n",
      "    ['point_of_interest', 'establishment']\n",
      "    410 N Mary Ave, Sunnyvale, CA 94085, United States\n",
      "Mobile Kangaroo - Apple Authorized iPhone & Mac Repair\n",
      "    ['point_of_interest', 'establishment']\n",
      "    43170 Christy St, Fremont, CA 94538, United States\n"
     ]
    }
   ],
   "source": [
    "result = gmaps.places(\n",
    "    f\"apple office in fremont CA \",\n",
    "    )\n",
    "for x in result['results'][:5]:\n",
    "    print(x['name'])\n",
    "    print(f\"    {x['types']}\")\n",
    "    print(f\"    {x['formatted_address']}\")"
   ]
  },
  {
   "cell_type": "code",
   "execution_count": 12,
   "id": "honey-reynolds",
   "metadata": {},
   "outputs": [
    {
     "name": "stdout",
     "output_type": "stream",
     "text": [
      "Apple Pioneer Place\n",
      "    ['electronics_store', 'point_of_interest', 'store', 'establishment']\n",
      "    450 SW Yamhill St, Portland, OR 97204, United States\n"
     ]
    }
   ],
   "source": [
    "result = gmaps.places(\n",
    "    f\"apple office in berkely CA \",\n",
    "    )\n",
    "for x in result['results'][:5]:\n",
    "    print(x['name'])\n",
    "    print(f\"    {x['types']}\")\n",
    "    print(f\"    {x['formatted_address']}\")"
   ]
  },
  {
   "cell_type": "code",
   "execution_count": 14,
   "id": "ambient-genius",
   "metadata": {},
   "outputs": [
    {
     "name": "stdout",
     "output_type": "stream",
     "text": [
      "Apple Bay Street\n",
      "    ['electronics_store', 'point_of_interest', 'store', 'establishment']\n",
      "    5640 Bay St, Emeryville, CA 94608, United States\n",
      "AppleService Center\n",
      "    ['electronics_store', 'point_of_interest', 'store', 'establishment']\n",
      "    311 Oak St, Oakland, CA 94607, United States\n",
      "Apple 4th Street\n",
      "    ['electronics_store', 'point_of_interest', 'store', 'establishment']\n",
      "    1823 Fourth St, Berkeley, CA 94710, United States\n",
      "Apple Corporation\n",
      "    ['point_of_interest', 'establishment']\n",
      "    2080 N Loop Rd, Alameda, CA 94502, United States\n",
      "Apple Inc.\n",
      "    ['point_of_interest', 'establishment']\n",
      "    235 2nd St, San Francisco, CA 94105, United States\n"
     ]
    }
   ],
   "source": [
    "result = gmaps.places(\n",
    "    f\"apple office in oakland CA \",\n",
    "    )\n",
    "for x in result['results'][:5]:\n",
    "    print(x['name'])\n",
    "    print(f\"    {x['types']}\")\n",
    "    print(f\"    {x['formatted_address']}\")"
   ]
  },
  {
   "cell_type": "code",
   "execution_count": null,
   "id": "identified-willow",
   "metadata": {},
   "outputs": [],
   "source": []
  }
 ],
 "metadata": {
  "kernelspec": {
   "display_name": "Python 3",
   "language": "python",
   "name": "python3"
  },
  "language_info": {
   "codemirror_mode": {
    "name": "ipython",
    "version": 3
   },
   "file_extension": ".py",
   "mimetype": "text/x-python",
   "name": "python",
   "nbconvert_exporter": "python",
   "pygments_lexer": "ipython3",
   "version": "3.9.2"
  }
 },
 "nbformat": 4,
 "nbformat_minor": 5
}
