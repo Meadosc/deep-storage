{
 "cells": [
  {
   "cell_type": "markdown",
   "id": "ahead-signal",
   "metadata": {},
   "source": [
    "# SFBA found, filtered, and scored EDA"
   ]
  },
  {
   "cell_type": "code",
   "execution_count": 1,
   "id": "jewish-velvet",
   "metadata": {},
   "outputs": [],
   "source": [
    "import matplotlib.pyplot as plt\n",
    "import pandas as pd\n",
    "\n",
    "from IPython.core.display import HTML"
   ]
  },
  {
   "cell_type": "code",
   "execution_count": 32,
   "id": "instrumental-packing",
   "metadata": {},
   "outputs": [],
   "source": [
    "df = pd.read_csv('../../data/SFBA_HWEs_out_scores.csv')\n",
    "df2 = pd.read_csv('../../data/SFBA_HWEs_out_scores_2.csv')\n",
    "df3 = pd.read_csv('../../data/SFBA_HWEs_out_scores_3.csv')\n",
    "df3_5 = pd.read_csv('../../data/SFBA_HWEs_out_scores_3_dot_5.csv')\n",
    "df4 = pd.read_csv('../../data/SFBA_HWEs_out_scores_4.csv')"
   ]
  },
  {
   "cell_type": "code",
   "execution_count": 3,
   "id": "polished-segment",
   "metadata": {},
   "outputs": [
    {
     "data": {
      "text/plain": [
       "<AxesSubplot:ylabel='Density'>"
      ]
     },
     "execution_count": 3,
     "metadata": {},
     "output_type": "execute_result"
    },
    {
     "data": {
      "image/png": "[encoded data removed]",
      "text/plain": [
       "<Figure size 432x288 with 1 Axes>"
      ]
     },
     "metadata": {
      "needs_background": "light"
     },
     "output_type": "display_data"
    }
   ],
   "source": [
    "df['name_score_set'].plot.kde(bw_method=.001)"
   ]
  },
  {
   "cell_type": "code",
   "execution_count": 5,
   "id": "rotary-mediterranean",
   "metadata": {},
   "outputs": [
    {
     "data": {
      "text/plain": [
       "<AxesSubplot:>"
      ]
     },
     "execution_count": 5,
     "metadata": {},
     "output_type": "execute_result"
    },
    {
     "data": {
      "image/png": "[encoded data removed]",
      "text/plain": [
       "<Figure size 432x288 with 1 Axes>"
      ]
     },
     "metadata": {
      "needs_background": "light"
     },
     "output_type": "display_data"
    }
   ],
   "source": [
    "df['name_score_set'].hist(cumulative=True, density=1, bins=100)"
   ]
  },
  {
   "cell_type": "code",
   "execution_count": 6,
   "id": "answering-longer",
   "metadata": {},
   "outputs": [
    {
     "data": {
      "text/plain": [
       "<AxesSubplot:>"
      ]
     },
     "execution_count": 6,
     "metadata": {},
     "output_type": "execute_result"
    },
    {
     "data": {
      "image/png": "[encoded data removed]",
      "text/plain": [
       "<Figure size 432x288 with 1 Axes>"
      ]
     },
     "metadata": {
      "needs_background": "light"
     },
     "output_type": "display_data"
    }
   ],
   "source": [
    "df2['name_score_set'].hist(cumulative=True, density=1, bins=100)"
   ]
  },
  {
   "cell_type": "code",
   "execution_count": 7,
   "id": "curious-muscle",
   "metadata": {},
   "outputs": [
    {
     "data": {
      "text/plain": [
       "<AxesSubplot:>"
      ]
     },
     "execution_count": 7,
     "metadata": {},
     "output_type": "execute_result"
    },
    {
     "data": {
      "image/png": "[encoded data removed]",
      "text/plain": [
       "<Figure size 432x288 with 1 Axes>"
      ]
     },
     "metadata": {
      "needs_background": "light"
     },
     "output_type": "display_data"
    }
   ],
   "source": [
    "df3['name_score_set'].hist(cumulative=True, density=1, bins=100)"
   ]
  },
  {
   "cell_type": "code",
   "execution_count": 30,
   "id": "advisory-overall",
   "metadata": {},
   "outputs": [
    {
     "data": {
      "text/plain": [
       "<AxesSubplot:>"
      ]
     },
     "execution_count": 30,
     "metadata": {},
     "output_type": "execute_result"
    },
    {
     "data": {
      "image/png": "[encoded data removed]",
      "text/plain": [
       "<Figure size 432x288 with 1 Axes>"
      ]
     },
     "metadata": {
      "needs_background": "light"
     },
     "output_type": "display_data"
    }
   ],
   "source": [
    "df3_5['name_score_set'].hist(cumulative=True, density=1, bins=100)"
   ]
  },
  {
   "cell_type": "markdown",
   "id": "behind-fluid",
   "metadata": {},
   "source": [
    "## Search 1"
   ]
  },
  {
   "cell_type": "code",
   "execution_count": 44,
   "id": "continuous-explorer",
   "metadata": {},
   "outputs": [
    {
     "name": "stdout",
     "output_type": "stream",
     "text": [
      "Percentage count above or equal cutoff 70: 0.9052228271828998\n",
      "total canonical_locality: 24795\n",
      "0.95% achieved at score 26\n"
     ]
    }
   ],
   "source": [
    "CUTOFF = 70\n",
    "df_cutoff = df.loc[df['name_score_set']>=CUTOFF]\n",
    "per = df_cutoff['curr_canonical_locality_count'].sum()/df['curr_canonical_locality_count'].sum()\n",
    "print(f\"Percentage count above or equal cutoff {CUTOFF}: {per}\")\n",
    "\n",
    "total = df['curr_canonical_locality_count'].sum()\n",
    "print(f\"total canonical_locality: {total}\")\n",
    "accuracy = 0.95\n",
    "for x in range(100, 0, -1):\n",
    "    df_cutoff = df.loc[df['name_score_set']>=x]\n",
    "    amount = df_cutoff['curr_canonical_locality_count'].sum()\n",
    "    per = amount/total\n",
    "    if per > accuracy:\n",
    "        print(f\"{accuracy}% achieved at score {x}\")\n",
    "        break"
   ]
  },
  {
   "cell_type": "markdown",
   "id": "answering-advertising",
   "metadata": {},
   "source": [
    "## Search 2"
   ]
  },
  {
   "cell_type": "code",
   "execution_count": 45,
   "id": "significant-inquiry",
   "metadata": {},
   "outputs": [
    {
     "name": "stdout",
     "output_type": "stream",
     "text": [
      "Percentage count above or equal cutoff 70: 0.9425690663440209\n",
      "0.95% achieved at score 29\n"
     ]
    }
   ],
   "source": [
    "CUTOFF = 70\n",
    "df_cutoff = df2.loc[df2['name_score_set']>=CUTOFF]\n",
    "per = df_cutoff['curr_canonical_locality_count'].sum()/df['curr_canonical_locality_count'].sum()\n",
    "print(f\"Percentage count above or equal cutoff {CUTOFF}: {per}\")\n",
    "\n",
    "total = df2['curr_canonical_locality_count'].sum()\n",
    "accuracy = 0.95\n",
    "for x in range(100, 0, -1):\n",
    "    df_cutoff = df2.loc[df['name_score_set']>=x]\n",
    "    amount = df_cutoff['curr_canonical_locality_count'].sum()\n",
    "    per = amount/total\n",
    "    if per > accuracy:\n",
    "        print(f\"{accuracy}% achieved at score {x}\")\n",
    "        break"
   ]
  },
  {
   "cell_type": "markdown",
   "id": "involved-sharing",
   "metadata": {},
   "source": [
    "## Search 3"
   ]
  },
  {
   "cell_type": "code",
   "execution_count": 47,
   "id": "vulnerable-castle",
   "metadata": {},
   "outputs": [
    {
     "name": "stdout",
     "output_type": "stream",
     "text": [
      "Percentage count above or equal cutoff 70: 0.9373260738052026\n",
      "0.95% achieved at score 36\n"
     ]
    }
   ],
   "source": [
    "CUTOFF = 70\n",
    "df_cutoff = df3.loc[df3['name_score_set']>=CUTOFF]\n",
    "per = df_cutoff['curr_canonical_locality_count'].sum()/df['curr_canonical_locality_count'].sum()\n",
    "print(f\"Percentage count above or equal cutoff {CUTOFF}: {per}\")\n",
    "\n",
    "total = df3['curr_canonical_locality_count'].sum()\n",
    "accuracy = 0.95\n",
    "for x in range(100, 0, -1):\n",
    "    df_cutoff = df3.loc[df['name_score_set']>=x]\n",
    "    amount = df_cutoff['curr_canonical_locality_count'].sum()\n",
    "    per = amount/total\n",
    "    if per > accuracy:\n",
    "        print(f\"{accuracy}% achieved at score {x}\")\n",
    "        break"
   ]
  },
  {
   "cell_type": "markdown",
   "id": "infectious-musical",
   "metadata": {},
   "source": [
    "## Search 3.5"
   ]
  },
  {
   "cell_type": "code",
   "execution_count": 48,
   "id": "spanish-conducting",
   "metadata": {},
   "outputs": [
    {
     "name": "stdout",
     "output_type": "stream",
     "text": [
      "Percentage count above or equal cutoff 70: 0.9423668447466408\n",
      "0.95% achieved at score 36\n"
     ]
    }
   ],
   "source": [
    "CUTOFF = 70\n",
    "df_cutoff = df3_5.loc[df3_5['name_score_set']>=CUTOFF]\n",
    "per = df_cutoff['curr_canonical_locality_count'].sum()/df3_5['curr_canonical_locality_count'].sum()\n",
    "print(f\"Percentage count above or equal cutoff {CUTOFF}: {per}\")\n",
    "\n",
    "total = df3['curr_canonical_locality_count'].sum()\n",
    "accuracy = 0.95\n",
    "for x in range(100, 0, -1):\n",
    "    df_cutoff = df3_5.loc[df['name_score_set']>=x]\n",
    "    amount = df_cutoff['curr_canonical_locality_count'].sum()\n",
    "    per = amount/total\n",
    "    if per > accuracy:\n",
    "        print(f\"{accuracy}% achieved at score {x}\")\n",
    "        break"
   ]
  },
  {
   "cell_type": "markdown",
   "id": "stylish-classic",
   "metadata": {},
   "source": [
    "## Search 4"
   ]
  },
  {
   "cell_type": "code",
   "execution_count": 49,
   "id": "liberal-database",
   "metadata": {},
   "outputs": [
    {
     "name": "stdout",
     "output_type": "stream",
     "text": [
      "Percentage count above or equal cutoff 70: 0.9675813501699855\n"
     ]
    }
   ],
   "source": [
    "CUTOFF = 70\n",
    "df_cutoff = df4.loc[df4['name_score_set']>=CUTOFF]\n",
    "df_url = df4.loc[df4['pass_found'] == 3]\n",
    "numerator = df_cutoff['curr_canonical_locality_count'].sum() + df_url['curr_canonical_locality_count'].sum()\n",
    "denominator = df4['curr_canonical_locality_count'].sum()\n",
    "per = numerator / denominator\n",
    "print(f\"Percentage count above or equal cutoff {CUTOFF}: {per}\")\n"
   ]
  },
  {
   "cell_type": "code",
   "execution_count": 50,
   "id": "european-blind",
   "metadata": {},
   "outputs": [
    {
     "name": "stdout",
     "output_type": "stream",
     "text": [
      "Percentage count above or equal cutoff 70: 0.9666909502994981\n"
     ]
    }
   ],
   "source": [
    "df5 = pd.read_csv('../../data/SFBA_HWEs_out_5.csv')\n",
    "CUTOFF = 70\n",
    "df_cutoff = df5.loc[df5['name_score_set']>=CUTOFF]\n",
    "df_url = df5.loc[df5['pass_found'] == 3]\n",
    "numerator = df_cutoff['curr_canonical_locality_count'].sum() + df_url['curr_canonical_locality_count'].sum()\n",
    "denominator = df5['curr_canonical_locality_count'].sum()\n",
    "per = numerator / denominator\n",
    "print(f\"Percentage count above or equal cutoff {CUTOFF}: {per}\")\n"
   ]
  },
  {
   "cell_type": "code",
   "execution_count": null,
   "id": "automated-phoenix",
   "metadata": {},
   "outputs": [],
   "source": []
  }
 ],
 "metadata": {
  "kernelspec": {
   "display_name": "Python 3",
   "language": "python",
   "name": "python3"
  },
  "language_info": {
   "codemirror_mode": {
    "name": "ipython",
    "version": 3
   },
   "file_extension": ".py",
   "mimetype": "text/x-python",
   "name": "python",
   "nbconvert_exporter": "python",
   "pygments_lexer": "ipython3",
   "version": "3.9.2"
  }
 },
 "nbformat": 4,
 "nbformat_minor": 5
}
