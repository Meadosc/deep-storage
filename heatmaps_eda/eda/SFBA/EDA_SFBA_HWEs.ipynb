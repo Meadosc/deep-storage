{
 "cells": [
  {
   "cell_type": "markdown",
   "id": "friendly-brake",
   "metadata": {},
   "source": [
    "# SFBA Hardware Engineers EDA"
   ]
  },
  {
   "cell_type": "code",
   "execution_count": 2,
   "id": "optimum-plymouth",
   "metadata": {},
   "outputs": [],
   "source": [
    "import matplotlib.pyplot as plt\n",
    "import pandas as pd\n",
    "\n",
    "from IPython.core.display import HTML"
   ]
  },
  {
   "cell_type": "code",
   "execution_count": 4,
   "id": "dying-frontier",
   "metadata": {},
   "outputs": [
    {
     "data": {
      "text/html": [
       "<table border=\"1\" class=\"dataframe\">\n",
       "  <thead>\n",
       "    <tr style=\"text-align: right;\">\n",
       "      <th></th>\n",
       "      <th>latitude</th>\n",
       "      <th>longitude</th>\n",
       "      <th>curr_canonical_locality_count</th>\n",
       "      <th>1_yr_canonical_locality_count</th>\n",
       "      <th>3_yr_canonical_locality_count</th>\n",
       "    </tr>\n",
       "  </thead>\n",
       "  <tbody>\n",
       "    <tr>\n",
       "      <th>count</th>\n",
       "      <td>1175.000000</td>\n",
       "      <td>1175.000000</td>\n",
       "      <td>1183.000000</td>\n",
       "      <td>1177.000000</td>\n",
       "      <td>1143.000000</td>\n",
       "    </tr>\n",
       "    <tr>\n",
       "      <th>mean</th>\n",
       "      <td>37.527470</td>\n",
       "      <td>-122.096224</td>\n",
       "      <td>20.959425</td>\n",
       "      <td>19.937128</td>\n",
       "      <td>17.779528</td>\n",
       "    </tr>\n",
       "    <tr>\n",
       "      <th>std</th>\n",
       "      <td>0.200797</td>\n",
       "      <td>0.199257</td>\n",
       "      <td>72.539365</td>\n",
       "      <td>67.929556</td>\n",
       "      <td>59.340660</td>\n",
       "    </tr>\n",
       "    <tr>\n",
       "      <th>min</th>\n",
       "      <td>37.338200</td>\n",
       "      <td>-122.419000</td>\n",
       "      <td>1.000000</td>\n",
       "      <td>1.000000</td>\n",
       "      <td>1.000000</td>\n",
       "    </tr>\n",
       "    <tr>\n",
       "      <th>25%</th>\n",
       "      <td>37.338200</td>\n",
       "      <td>-122.273000</td>\n",
       "      <td>5.000000</td>\n",
       "      <td>5.000000</td>\n",
       "      <td>4.000000</td>\n",
       "    </tr>\n",
       "    <tr>\n",
       "      <th>50%</th>\n",
       "      <td>37.386100</td>\n",
       "      <td>-122.084000</td>\n",
       "      <td>8.000000</td>\n",
       "      <td>8.000000</td>\n",
       "      <td>7.000000</td>\n",
       "    </tr>\n",
       "    <tr>\n",
       "      <th>75%</th>\n",
       "      <td>37.774900</td>\n",
       "      <td>-121.886000</td>\n",
       "      <td>15.000000</td>\n",
       "      <td>14.000000</td>\n",
       "      <td>13.000000</td>\n",
       "    </tr>\n",
       "    <tr>\n",
       "      <th>max</th>\n",
       "      <td>37.871500</td>\n",
       "      <td>-121.886000</td>\n",
       "      <td>1851.000000</td>\n",
       "      <td>1723.000000</td>\n",
       "      <td>1340.000000</td>\n",
       "    </tr>\n",
       "  </tbody>\n",
       "</table>"
      ],
      "text/plain": [
       "<IPython.core.display.HTML object>"
      ]
     },
     "metadata": {},
     "output_type": "display_data"
    }
   ],
   "source": [
    "df = pd.read_excel('../../data/SFBA_HWEs.xlsx')\n",
    "display(HTML(df.describe().to_html()))"
   ]
  },
  {
   "cell_type": "code",
   "execution_count": 5,
   "id": "handy-bangkok",
   "metadata": {},
   "outputs": [
    {
     "data": {
      "text/html": [
       "<div>\n",
       "<style scoped>\n",
       "    .dataframe tbody tr th:only-of-type {\n",
       "        vertical-align: middle;\n",
       "    }\n",
       "\n",
       "    .dataframe tbody tr th {\n",
       "        vertical-align: top;\n",
       "    }\n",
       "\n",
       "    .dataframe thead th {\n",
       "        text-align: right;\n",
       "    }\n",
       "</style>\n",
       "<table border=\"1\" class=\"dataframe\">\n",
       "  <thead>\n",
       "    <tr style=\"text-align: right;\">\n",
       "      <th></th>\n",
       "      <th>li_permalink</th>\n",
       "      <th>company_name</th>\n",
       "      <th>landing_url</th>\n",
       "      <th>industry</th>\n",
       "      <th>best_city</th>\n",
       "      <th>canonical_locality</th>\n",
       "      <th>latitude</th>\n",
       "      <th>longitude</th>\n",
       "      <th>curr_canonical_locality_count</th>\n",
       "      <th>1_yr_canonical_locality_count</th>\n",
       "      <th>3_yr_canonical_locality_count</th>\n",
       "    </tr>\n",
       "  </thead>\n",
       "  <tbody>\n",
       "    <tr>\n",
       "      <th>0</th>\n",
       "      <td>apple</td>\n",
       "      <td>Apple</td>\n",
       "      <td>apple.com</td>\n",
       "      <td>Consumer Electronics</td>\n",
       "      <td>Cupertino, CA</td>\n",
       "      <td>Silicon Valley</td>\n",
       "      <td>37.3861</td>\n",
       "      <td>-122.084</td>\n",
       "      <td>1851</td>\n",
       "      <td>1723.0</td>\n",
       "      <td>1340.0</td>\n",
       "    </tr>\n",
       "    <tr>\n",
       "      <th>1</th>\n",
       "      <td>tesla-motors</td>\n",
       "      <td>Tesla</td>\n",
       "      <td>tesla.com</td>\n",
       "      <td>Automotive</td>\n",
       "      <td>Fremont, CA</td>\n",
       "      <td>Fremont, California</td>\n",
       "      <td>37.5485</td>\n",
       "      <td>-121.989</td>\n",
       "      <td>882</td>\n",
       "      <td>801.0</td>\n",
       "      <td>853.0</td>\n",
       "    </tr>\n",
       "    <tr>\n",
       "      <th>2</th>\n",
       "      <td>lockheed-martin</td>\n",
       "      <td>Lockheed Martin</td>\n",
       "      <td>lockheedmartin.com</td>\n",
       "      <td>Defense &amp; Space</td>\n",
       "      <td>Sunnyvale, CA</td>\n",
       "      <td>Silicon Valley</td>\n",
       "      <td>37.3861</td>\n",
       "      <td>-122.084</td>\n",
       "      <td>570</td>\n",
       "      <td>553.0</td>\n",
       "      <td>544.0</td>\n",
       "    </tr>\n",
       "    <tr>\n",
       "      <th>3</th>\n",
       "      <td>pacific-gas-and-electric-company</td>\n",
       "      <td>Pacific Gas and Electric Company</td>\n",
       "      <td>pge.com</td>\n",
       "      <td>Utilities</td>\n",
       "      <td>San Francisco, CA</td>\n",
       "      <td>San Francisco, California</td>\n",
       "      <td>37.7749</td>\n",
       "      <td>-122.419</td>\n",
       "      <td>500</td>\n",
       "      <td>490.0</td>\n",
       "      <td>479.0</td>\n",
       "    </tr>\n",
       "    <tr>\n",
       "      <th>4</th>\n",
       "      <td>intel-corporation</td>\n",
       "      <td>Intel Corporation</td>\n",
       "      <td>intel.com</td>\n",
       "      <td>Semiconductors</td>\n",
       "      <td>Santa Clara, CA</td>\n",
       "      <td>San Jose, California</td>\n",
       "      <td>37.3382</td>\n",
       "      <td>-121.886</td>\n",
       "      <td>476</td>\n",
       "      <td>473.0</td>\n",
       "      <td>438.0</td>\n",
       "    </tr>\n",
       "  </tbody>\n",
       "</table>\n",
       "</div>"
      ],
      "text/plain": [
       "                       li_permalink                      company_name  \\\n",
       "0                             apple                             Apple   \n",
       "1                      tesla-motors                             Tesla   \n",
       "2                   lockheed-martin                   Lockheed Martin   \n",
       "3  pacific-gas-and-electric-company  Pacific Gas and Electric Company   \n",
       "4                 intel-corporation                 Intel Corporation   \n",
       "\n",
       "          landing_url              industry          best_city  \\\n",
       "0           apple.com  Consumer Electronics      Cupertino, CA   \n",
       "1           tesla.com            Automotive        Fremont, CA   \n",
       "2  lockheedmartin.com       Defense & Space      Sunnyvale, CA   \n",
       "3             pge.com             Utilities  San Francisco, CA   \n",
       "4           intel.com        Semiconductors    Santa Clara, CA   \n",
       "\n",
       "          canonical_locality  latitude  longitude  \\\n",
       "0             Silicon Valley   37.3861   -122.084   \n",
       "1        Fremont, California   37.5485   -121.989   \n",
       "2             Silicon Valley   37.3861   -122.084   \n",
       "3  San Francisco, California   37.7749   -122.419   \n",
       "4       San Jose, California   37.3382   -121.886   \n",
       "\n",
       "   curr_canonical_locality_count  1_yr_canonical_locality_count  \\\n",
       "0                           1851                         1723.0   \n",
       "1                            882                          801.0   \n",
       "2                            570                          553.0   \n",
       "3                            500                          490.0   \n",
       "4                            476                          473.0   \n",
       "\n",
       "   3_yr_canonical_locality_count  \n",
       "0                         1340.0  \n",
       "1                          853.0  \n",
       "2                          544.0  \n",
       "3                          479.0  \n",
       "4                          438.0  "
      ]
     },
     "execution_count": 5,
     "metadata": {},
     "output_type": "execute_result"
    }
   ],
   "source": [
    "df = df.sort_values(by='curr_canonical_locality_count', ascending=False)\n",
    "df.head()"
   ]
  },
  {
   "cell_type": "code",
   "execution_count": 6,
   "id": "overall-motel",
   "metadata": {},
   "outputs": [
    {
     "data": {
      "text/plain": [
       "<AxesSubplot:>"
      ]
     },
     "execution_count": 6,
     "metadata": {},
     "output_type": "execute_result"
    },
    {
     "data": {
      "image/png": "[encoded data removed]",
      "text/plain": [
       "<Figure size 432x288 with 1 Axes>"
      ]
     },
     "metadata": {
      "needs_background": "light"
     },
     "output_type": "display_data"
    }
   ],
   "source": [
    "df['curr_canonical_locality_count'].hist(cumulative=True, density=1, bins=100)"
   ]
  },
  {
   "cell_type": "code",
   "execution_count": 7,
   "id": "closed-discharge",
   "metadata": {},
   "outputs": [
    {
     "data": {
      "text/plain": [
       "<AxesSubplot:>"
      ]
     },
     "execution_count": 7,
     "metadata": {},
     "output_type": "execute_result"
    },
    {
     "data": {
      "image/png": "[encoded data removed]",
      "text/plain": [
       "<Figure size 432x288 with 1 Axes>"
      ]
     },
     "metadata": {
      "needs_background": "light"
     },
     "output_type": "display_data"
    }
   ],
   "source": [
    "#df['curr_canonical_locality_count'].plot.kde(bw_method=.05)\n",
    "df['curr_canonical_locality_count'].hist(bins=1000)"
   ]
  },
  {
   "cell_type": "code",
   "execution_count": 8,
   "id": "hindu-mapping",
   "metadata": {},
   "outputs": [
    {
     "name": "stdout",
     "output_type": "stream",
     "text": [
      "Total Hardware Engineers: 24795\n",
      "Percent HWEs in first 800 rows: 0.9311554748941319\n"
     ]
    }
   ],
   "source": [
    "ROWS = 800\n",
    "\n",
    "total_hwe = df['curr_canonical_locality_count'].sum()\n",
    "perc_hwe = df['curr_canonical_locality_count'].head(800).sum()/total_hwe\n",
    "\n",
    "print(f\"Total Hardware Engineers: {total_hwe}\")\n",
    "print(f\"Percent HWEs in first {ROWS} rows: {perc_hwe}\")"
   ]
  },
  {
   "cell_type": "code",
   "execution_count": 9,
   "id": "every-think",
   "metadata": {},
   "outputs": [
    {
     "data": {
      "text/plain": [
       "array(['Silicon Valley', 'Fremont, California',\n",
       "       'San Francisco, California', 'San Jose, California',\n",
       "       'Berkeley, California', 'Oakland, California',\n",
       "       'San Francisco Bay Area (Unallocated)'], dtype=object)"
      ]
     },
     "execution_count": 9,
     "metadata": {},
     "output_type": "execute_result"
    }
   ],
   "source": [
    "df['canonical_locality'].unique()"
   ]
  },
  {
   "cell_type": "code",
   "execution_count": 10,
   "id": "analyzed-camping",
   "metadata": {},
   "outputs": [
    {
     "data": {
      "text/plain": [
       "array(['Cupertino, CA', 'Fremont, CA', 'Sunnyvale, CA',\n",
       "       'San Francisco, CA', 'Santa Clara, CA', 'Livermore, CA',\n",
       "       'Mountain View, CA', 'San Jose, California', 'Menlo Park, CA',\n",
       "       'Stanford, California', 'Milpitas, CA', 'San Jose, CA',\n",
       "       'Palo Alto, California', 'Palo Alto, CA', 'Berkeley, CA',\n",
       "       'Newark, CA', 'Berkeley, California', 'South San Francisco, CA',\n",
       "       'Foster City, CA', 'Oakland, CA', 'San Francisco, California',\n",
       "       'San Ramon, CA', 'San Ramon, California', 'Redwood City, CA',\n",
       "       'Concord, California', 'Pleasanton, CA', 'San Carlos, CA',\n",
       "       'Hercules, CA', 'Sunnyvale, California', 'Oakland, California',\n",
       "       'Fremont, California', 'Richmond, California', 'Alameda, CA',\n",
       "       'Mountain View, California', 'Santa Cruz, California',\n",
       "       'Hayward, CA', 'Concord, CA', 'Los Altos, CA', 'Campbell, CA',\n",
       "       'Benicia, CA', 'Novato, CA', 'Dublin, CA',\n",
       "       'San Francisco Bay Area', 'San Mateo, CA', 'Livermore, California',\n",
       "       'Redwood City, California', 'Santa Clara, California',\n",
       "       'Pleasanton, California', 'Nicasio, CA', 'Emeryville, CA',\n",
       "       'Los Gatos, CA', 'Rodeo, CA', 'Danville, California',\n",
       "       'Belmont, CA', 'Hayward, California', 'Martinez, CA',\n",
       "       'Union City, CA', 'Stanford, CA', 'Newark, California',\n",
       "       'San Leandro, CA', 'Burlingame, CA', 'Martinez, California',\n",
       "       'Walnut Creek, CA', 'Vallejo, CA', 'Richmond, CA',\n",
       "       'Los Altos, California', 'San Bruno, CA', 'Menlo Park, California',\n",
       "       'Walnut Creek, California', 'Hercules, California',\n",
       "       'Vallejo, California', 'Cupertino, California',\n",
       "       'Saratoga, California', 'Brisbane, CA', 'San Carlos, California',\n",
       "       'Dublin, California', 'Los Gatos, California',\n",
       "       'Alameda, California', 'Alameda, California, United States',\n",
       "       'Millbrae, CA', 'San Mateo, California',\n",
       "       'Fremont, California, United States',\n",
       "       'San Jose, California, United States', 'Saratoga, CA',\n",
       "       'Palo Alto, California, United States', 'Milpitas, California',\n",
       "       'Castro Valley, California',\n",
       "       'San Francisco, California, United States',\n",
       "       'Union City, California', 'San Leandro, California',\n",
       "       'Albany, California', 'San Francisco Bay und Umgebung'],\n",
       "      dtype=object)"
      ]
     },
     "execution_count": 10,
     "metadata": {},
     "output_type": "execute_result"
    }
   ],
   "source": [
    "df['best_city'].unique()"
   ]
  },
  {
   "cell_type": "code",
   "execution_count": null,
   "id": "differential-performer",
   "metadata": {},
   "outputs": [],
   "source": []
  },
  {
   "cell_type": "code",
   "execution_count": null,
   "id": "productive-prevention",
   "metadata": {},
   "outputs": [],
   "source": []
  }
 ],
 "metadata": {
  "kernelspec": {
   "display_name": "Python 3",
   "language": "python",
   "name": "python3"
  },
  "language_info": {
   "codemirror_mode": {
    "name": "ipython",
    "version": 3
   },
   "file_extension": ".py",
   "mimetype": "text/x-python",
   "name": "python",
   "nbconvert_exporter": "python",
   "pygments_lexer": "ipython3",
   "version": "3.9.2"
  }
 },
 "nbformat": 4,
 "nbformat_minor": 5
}
