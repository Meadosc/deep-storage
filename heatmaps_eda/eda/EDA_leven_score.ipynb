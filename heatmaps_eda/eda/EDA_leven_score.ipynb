{
 "cells": [
  {
   "cell_type": "markdown",
   "metadata": {},
   "source": [
    "# Levenshtein Score EDA\n",
    "This notebook explores the results of google places api calls against previously vetted addresses. It uses the levenshtein score (calculated elsewhere, saved as column 'score') to compare accuracy and find inflection points in the data.\n",
    "\n",
    "This information will be used to refine search terms and improve the initial places search."
   ]
  },
  {
   "cell_type": "code",
   "execution_count": 12,
   "metadata": {},
   "outputs": [],
   "source": [
    "import googlemaps\n",
    "import matplotlib.pyplot as plt\n",
    "import pandas as pd\n",
    "\n",
    "\n",
    "from heatmaps.find_addresses import find_addresses\n",
    "from IPython.core.display import HTML"
   ]
  },
  {
   "cell_type": "code",
   "execution_count": 13,
   "metadata": {},
   "outputs": [],
   "source": [
    "#df = pd.read_excel('./data/toronto_heatmap.xlsx')\n",
    "df = pd.read_csv('../data/address_out.csv')\n",
    "df = df.head()"
   ]
  },
  {
   "cell_type": "code",
   "execution_count": 14,
   "metadata": {},
   "outputs": [],
   "source": [
    "#df.columns"
   ]
  },
  {
   "cell_type": "code",
   "execution_count": 15,
   "metadata": {},
   "outputs": [],
   "source": [
    "df = pd.read_csv('../data/comp_out.csv')\n",
    "df = df[['score','name', 'Address Google','address', 'Source']]\n",
    "#df.describe()"
   ]
  },
  {
   "cell_type": "code",
   "execution_count": 16,
   "metadata": {},
   "outputs": [],
   "source": [
    "#CUTOFF = 70\n",
    "#df2 = df.loc[df['score']<CUTOFF]\n",
    "#display(HTML(df2.describe().to_html()))\n",
    "#qual_per = (len(df.index)-len(df2.index))/len(df.index)\n",
    "#print(f\"\\nPercentage good quality: {qual_per:.2f}\\nBased on a cutt off score of {CUTOFF}\")\n",
    "#df2.head(10)"
   ]
  },
  {
   "cell_type": "code",
   "execution_count": 18,
   "metadata": {},
   "outputs": [
    {
     "data": {
      "text/plain": [
       "<AxesSubplot:>"
      ]
     },
     "execution_count": 18,
     "metadata": {},
     "output_type": "execute_result"
    },
    {
     "data": {
      "image/png": "[encoded data removed]",
      "text/plain": [
       "<Figure size 432x288 with 1 Axes>"
      ]
     },
     "metadata": {
      "needs_background": "light"
     },
     "output_type": "display_data"
    }
   ],
   "source": [
    "df['score'].hist(bins=100)"
   ]
  },
  {
   "cell_type": "code",
   "execution_count": 8,
   "metadata": {},
   "outputs": [
    {
     "data": {
      "text/plain": [
       "<AxesSubplot:>"
      ]
     },
     "execution_count": 8,
     "metadata": {},
     "output_type": "execute_result"
    },
    {
     "data": {
      "image/png": "[encoded data removed]",
      "text/plain": [
       "<Figure size 432x288 with 1 Axes>"
      ]
     },
     "metadata": {
      "needs_background": "light"
     },
     "output_type": "display_data"
    }
   ],
   "source": [
    "df['score'].hist(cumulative=True, density=1, bins=100)"
   ]
  },
  {
   "cell_type": "code",
   "execution_count": 23,
   "metadata": {},
   "outputs": [
    {
     "data": {
      "text/plain": [
       "<AxesSubplot:ylabel='Density'>"
      ]
     },
     "execution_count": 23,
     "metadata": {},
     "output_type": "execute_result"
    },
    {
     "data": {
      "image/png": "[encoded data removed]",
      "text/plain": [
       "<Figure size 432x288 with 1 Axes>"
      ]
     },
     "metadata": {
      "needs_background": "light"
     },
     "output_type": "display_data"
    }
   ],
   "source": [
    "df['score'].plot.kde(bw_method=.01)"
   ]
  },
  {
   "cell_type": "code",
   "execution_count": 21,
   "metadata": {},
   "outputs": [
    {
     "name": "stdout",
     "output_type": "stream",
     "text": [
      "Number of Rows: 28\n",
      "\n"
     ]
    },
    {
     "data": {
      "text/html": [
       "<div>\n",
       "<style scoped>\n",
       "    .dataframe tbody tr th:only-of-type {\n",
       "        vertical-align: middle;\n",
       "    }\n",
       "\n",
       "    .dataframe tbody tr th {\n",
       "        vertical-align: top;\n",
       "    }\n",
       "\n",
       "    .dataframe thead th {\n",
       "        text-align: right;\n",
       "    }\n",
       "</style>\n",
       "<table border=\"1\" class=\"dataframe\">\n",
       "  <thead>\n",
       "    <tr style=\"text-align: right;\">\n",
       "      <th></th>\n",
       "      <th>score</th>\n",
       "      <th>name</th>\n",
       "      <th>Address Google</th>\n",
       "      <th>address</th>\n",
       "      <th>Source</th>\n",
       "    </tr>\n",
       "  </thead>\n",
       "  <tbody>\n",
       "    <tr>\n",
       "      <th>331</th>\n",
       "      <td>73</td>\n",
       "      <td>Janssen-Cilag Polska Sp. z o.o.</td>\n",
       "      <td>19 Green Belt Dr., , Toronto, Ontario, M3C 1L9</td>\n",
       "      <td>19 Green Belt Dr, North York, ON M3C 1L9, Canada</td>\n",
       "      <td>mturk</td>\n",
       "    </tr>\n",
       "    <tr>\n",
       "      <th>332</th>\n",
       "      <td>73</td>\n",
       "      <td>Technion - Israel Institute of Technology</td>\n",
       "      <td>970 Lawrence Avenue West, Suite 206, , Toronto...</td>\n",
       "      <td>970 Lawrence Ave W Suite 206, North York, ON M...</td>\n",
       "      <td>mturk</td>\n",
       "    </tr>\n",
       "    <tr>\n",
       "      <th>333</th>\n",
       "      <td>72</td>\n",
       "      <td>CATIE</td>\n",
       "      <td>555 Richmond Street West, Suite 505, Box 1104,...</td>\n",
       "      <td>555 Richmond St W #505, Toronto, ON M5V 3B1, C...</td>\n",
       "      <td>mturk</td>\n",
       "    </tr>\n",
       "    <tr>\n",
       "      <th>334</th>\n",
       "      <td>71</td>\n",
       "      <td>Canadian Cancer Society</td>\n",
       "      <td>Canadian Cancer Society, National Office, 55 S...</td>\n",
       "      <td>55 St Clair Ave W Suite 500, Toronto, ON M4V 2...</td>\n",
       "      <td>mturk</td>\n",
       "    </tr>\n",
       "    <tr>\n",
       "      <th>335</th>\n",
       "      <td>70</td>\n",
       "      <td>Geneseeq Technology Inc.</td>\n",
       "      <td>101 College St, Toronto, ON M5G 1L7, Canada</td>\n",
       "      <td>South Tower, Suite 200, MaRS Centre, 101 Colle...</td>\n",
       "      <td>Google Maps API</td>\n",
       "    </tr>\n",
       "    <tr>\n",
       "      <th>336</th>\n",
       "      <td>70</td>\n",
       "      <td>Lambda Therapeutic Research INC</td>\n",
       "      <td>460 Comstock Road, , Toronto, Ontario, M1L 4S4</td>\n",
       "      <td>460 Comstock Rd, Scarborough, ON M1L 4S4, Canada</td>\n",
       "      <td>mturk</td>\n",
       "    </tr>\n",
       "    <tr>\n",
       "      <th>337</th>\n",
       "      <td>69</td>\n",
       "      <td>Eurofins</td>\n",
       "      <td>1111 Flint Rd., Unit 36, Downsview, Ontario, C...</td>\n",
       "      <td>1111 Flint Rd, North York, ON M3J 3C7, Canada</td>\n",
       "      <td>mturk</td>\n",
       "    </tr>\n",
       "    <tr>\n",
       "      <th>338</th>\n",
       "      <td>68</td>\n",
       "      <td>The Hospital for Sick Children</td>\n",
       "      <td>Sick Kids (The Hospital for Sick Children), 55...</td>\n",
       "      <td>555 University Ave, Toronto, ON M5G 1X8, Canada</td>\n",
       "      <td>Google Maps API</td>\n",
       "    </tr>\n",
       "    <tr>\n",
       "      <th>339</th>\n",
       "      <td>68</td>\n",
       "      <td>George Brown College</td>\n",
       "      <td>160 Kendal Ave, Toronto, ON M5R 1M3, Canada</td>\n",
       "      <td>200 King St E, Toronto, ON M5A 3W8, Canada</td>\n",
       "      <td>Google Maps API</td>\n",
       "    </tr>\n",
       "    <tr>\n",
       "      <th>340</th>\n",
       "      <td>66</td>\n",
       "      <td>St. Michael's Hospital</td>\n",
       "      <td>30 Bond St, Toronto, ON M5B 1W8, Canada</td>\n",
       "      <td>410 Sherbourne St, Toronto, ON M4X 1K2, Canada</td>\n",
       "      <td>Google Maps API</td>\n",
       "    </tr>\n",
       "  </tbody>\n",
       "</table>\n",
       "</div>"
      ],
      "text/plain": [
       "     score                                       name  \\\n",
       "331     73            Janssen-Cilag Polska Sp. z o.o.   \n",
       "332     73  Technion - Israel Institute of Technology   \n",
       "333     72                                      CATIE   \n",
       "334     71                    Canadian Cancer Society   \n",
       "335     70                   Geneseeq Technology Inc.   \n",
       "336     70            Lambda Therapeutic Research INC   \n",
       "337     69                                   Eurofins   \n",
       "338     68             The Hospital for Sick Children   \n",
       "339     68                       George Brown College   \n",
       "340     66                     St. Michael's Hospital   \n",
       "\n",
       "                                        Address Google  \\\n",
       "331     19 Green Belt Dr., , Toronto, Ontario, M3C 1L9   \n",
       "332  970 Lawrence Avenue West, Suite 206, , Toronto...   \n",
       "333  555 Richmond Street West, Suite 505, Box 1104,...   \n",
       "334  Canadian Cancer Society, National Office, 55 S...   \n",
       "335        101 College St, Toronto, ON M5G 1L7, Canada   \n",
       "336     460 Comstock Road, , Toronto, Ontario, M1L 4S4   \n",
       "337  1111 Flint Rd., Unit 36, Downsview, Ontario, C...   \n",
       "338  Sick Kids (The Hospital for Sick Children), 55...   \n",
       "339        160 Kendal Ave, Toronto, ON M5R 1M3, Canada   \n",
       "340            30 Bond St, Toronto, ON M5B 1W8, Canada   \n",
       "\n",
       "                                               address           Source  \n",
       "331   19 Green Belt Dr, North York, ON M3C 1L9, Canada            mturk  \n",
       "332  970 Lawrence Ave W Suite 206, North York, ON M...            mturk  \n",
       "333  555 Richmond St W #505, Toronto, ON M5V 3B1, C...            mturk  \n",
       "334  55 St Clair Ave W Suite 500, Toronto, ON M4V 2...            mturk  \n",
       "335  South Tower, Suite 200, MaRS Centre, 101 Colle...  Google Maps API  \n",
       "336   460 Comstock Rd, Scarborough, ON M1L 4S4, Canada            mturk  \n",
       "337      1111 Flint Rd, North York, ON M3J 3C7, Canada            mturk  \n",
       "338    555 University Ave, Toronto, ON M5G 1X8, Canada  Google Maps API  \n",
       "339         200 King St E, Toronto, ON M5A 3W8, Canada  Google Maps API  \n",
       "340     410 Sherbourne St, Toronto, ON M4X 1K2, Canada  Google Maps API  "
      ]
     },
     "execution_count": 21,
     "metadata": {},
     "output_type": "execute_result"
    }
   ],
   "source": [
    "CUTOFF_TOP = 80\n",
    "CUTOFF_BOT = 65\n",
    "df2 = df.loc[\n",
    "    (df['score']<=CUTOFF_TOP)\n",
    "    & (df['score']>=CUTOFF_BOT)\n",
    " #   & (df['Source']=='mturk')\n",
    "]\n",
    "print(f\"Number of Rows: {len(df2)}\\n\")\n",
    "df2.tail(10)"
   ]
  },
  {
   "cell_type": "code",
   "execution_count": null,
   "metadata": {},
   "outputs": [],
   "source": []
  }
 ],
 "metadata": {
  "kernelspec": {
   "display_name": "Python 3",
   "language": "python",
   "name": "python3"
  },
  "language_info": {
   "codemirror_mode": {
    "name": "ipython",
    "version": 3
   },
   "file_extension": ".py",
   "mimetype": "text/x-python",
   "name": "python",
   "nbconvert_exporter": "python",
   "pygments_lexer": "ipython3",
   "version": "3.8.10"
  }
 },
 "nbformat": 4,
 "nbformat_minor": 4
}
