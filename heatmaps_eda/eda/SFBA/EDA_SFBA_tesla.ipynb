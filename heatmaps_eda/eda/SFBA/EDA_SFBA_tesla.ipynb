{
 "cells": [
  {
   "cell_type": "markdown",
   "id": "collect-senior",
   "metadata": {},
   "source": [
    "# Tesla SFBA google search EDA"
   ]
  },
  {
   "cell_type": "code",
   "execution_count": 2,
   "id": "mysterious-george",
   "metadata": {},
   "outputs": [],
   "source": [
    "import googlemaps\n",
    "import pandas as pd\n",
    "\n",
    "from heatmaps.helper.get_api_key import get_google_api_key"
   ]
  },
  {
   "cell_type": "code",
   "execution_count": 3,
   "id": "running-heating",
   "metadata": {},
   "outputs": [],
   "source": [
    "gmaps = googlemaps.Client(key=get_google_api_key())"
   ]
  },
  {
   "cell_type": "markdown",
   "id": "differential-broadcast",
   "metadata": {},
   "source": [
    "## Seach using .places\n",
    "This will return multiple places"
   ]
  },
  {
   "cell_type": "code",
   "execution_count": 7,
   "id": "third-raleigh",
   "metadata": {},
   "outputs": [
    {
     "name": "stdout",
     "output_type": "stream",
     "text": [
      "Tesla Factory Showroom\n",
      "    ['car_dealer', 'point_of_interest', 'store', 'establishment']\n",
      "    45500 Fremont Blvd, Fremont, CA 94538, United States\n",
      "Tesla\n",
      "    ['point_of_interest', 'establishment']\n",
      "    901 Page Ave #7341, Fremont, CA 94538, United States\n",
      "Tesla Kato Road\n",
      "    ['point_of_interest', 'establishment']\n",
      "    48370 Kato Rd, Fremont, CA 94538, United States\n",
      "Tesla, Inc.\n",
      "    ['point_of_interest', 'establishment']\n",
      "    6800 Dumbarton Cir, Fremont, CA 94555, United States\n",
      "Tesla Delivery Center\n",
      "    ['car_dealer', 'point_of_interest', 'store', 'establishment']\n",
      "    47623 Fremont Blvd, Fremont, CA 94538, United States\n",
      "Tesla Motors Center\n",
      "    ['car_dealer', 'point_of_interest', 'store', 'establishment']\n",
      "    45500 Fremont Blvd, Fremont, CA 94538, United States\n",
      "Tesla Human Resources\n",
      "    ['point_of_interest', 'establishment']\n",
      "    47700 Kato Rd, Fremont, CA 94538, United States\n",
      "Tesla Training Center\n",
      "    ['point_of_interest', 'establishment']\n",
      "    45201 Fremont Blvd, Fremont, CA 94538, United States\n",
      "Tesla Engineering\n",
      "    ['storage', 'point_of_interest', 'establishment']\n",
      "    47400 Kato Rd, Fremont, CA 94538, United States\n",
      "Tesla Training Center, Spinnaker\n",
      "    ['point_of_interest', 'establishment']\n",
      "    3785 Spinnaker Ct, Fremont, CA 94538, United States\n"
     ]
    }
   ],
   "source": [
    "result = gmaps.places(\n",
    "    f\"tesla office in fremont CA\",\n",
    "    )\n",
    "\n",
    "for x in result['results']:\n",
    "    print(x['name'])\n",
    "    print(f\"    {x['types']}\")\n",
    "    print(f\"    {x['formatted_address']}\")"
   ]
  },
  {
   "cell_type": "code",
   "execution_count": 8,
   "id": "center-intersection",
   "metadata": {},
   "outputs": [
    {
     "name": "stdout",
     "output_type": "stream",
     "text": [
      "Tesla Factory Showroom\n",
      "    ['car_dealer', 'point_of_interest', 'store', 'establishment']\n",
      "    45500 Fremont Blvd, Fremont, CA 94538, United States\n",
      "Tesla\n",
      "    ['point_of_interest', 'establishment']\n",
      "    901 Page Ave #7341, Fremont, CA 94538, United States\n"
     ]
    }
   ],
   "source": [
    "result = gmaps.places(\n",
    "    f\"tesla-motors office in fremont CA\",\n",
    "    )\n",
    "\n",
    "for x in result['results']:\n",
    "    print(x['name'])\n",
    "    print(f\"    {x['types']}\")\n",
    "    print(f\"    {x['formatted_address']}\")"
   ]
  },
  {
   "cell_type": "markdown",
   "id": "elegant-correlation",
   "metadata": {},
   "source": [
    "## Insights from above data\n",
    "A showroom also has the type 'store'. This is good news, because based on the previous EDA on apple in SFBA, for both apple and tesla the only filter needed to successfuly find the office is to exclude results that have 'store' in them. Obviously 'car_dealer' is a prime candidate for exclusion as well.\n",
    "\n",
    "Worringly, there is a difference in the source data that creates different search results. The source data has two columns, 'li_permalink' and 'company_name', both of which have same data for the company. E.g. tesla-motors versus Tesla. I'll need to be careful which input is used, and maybe utilize both.\n",
    "\n",
    "-------------------------------------------"
   ]
  },
  {
   "cell_type": "code",
   "execution_count": 7,
   "id": "mighty-switch",
   "metadata": {},
   "outputs": [],
   "source": [
    "result_2 = gmaps.places(\n",
    "    f\"tesla-motors in fremont CA \",\n",
    "    )"
   ]
  },
  {
   "cell_type": "code",
   "execution_count": 8,
   "id": "pleased-static",
   "metadata": {},
   "outputs": [
    {
     "name": "stdout",
     "output_type": "stream",
     "text": [
      "Tesla Factory Showroom\n",
      "    ['car_dealer', 'point_of_interest', 'store', 'establishment']\n",
      "    45500 Fremont Blvd, Fremont, CA 94538, United States\n"
     ]
    }
   ],
   "source": [
    "for x in result_2['results']:\n",
    "    print(x['name'])\n",
    "    print(f\"    {x['types']}\")\n",
    "    print(f\"    {x['formatted_address']}\")"
   ]
  },
  {
   "cell_type": "markdown",
   "id": "alternative-geology",
   "metadata": {},
   "source": [
    "## Insights from above data\n",
    "This is unfortunate, but good to know. Excluding 'office' from the tesla search results in only the car dealership being displayed. What other search terms am I missing to achieve accurate results?\n",
    "\n",
    "---------------"
   ]
  },
  {
   "cell_type": "code",
   "execution_count": null,
   "id": "received-flexibility",
   "metadata": {},
   "outputs": [],
   "source": []
  }
 ],
 "metadata": {
  "kernelspec": {
   "display_name": "Python 3",
   "language": "python",
   "name": "python3"
  },
  "language_info": {
   "codemirror_mode": {
    "name": "ipython",
    "version": 3
   },
   "file_extension": ".py",
   "mimetype": "text/x-python",
   "name": "python",
   "nbconvert_exporter": "python",
   "pygments_lexer": "ipython3",
   "version": "3.9.2"
  }
 },
 "nbformat": 4,
 "nbformat_minor": 5
}
