{
 "cells": [
  {
   "cell_type": "markdown",
   "metadata": {},
   "source": [
    "# Atlanta EDA"
   ]
  },
  {
   "cell_type": "code",
   "execution_count": 1,
   "metadata": {},
   "outputs": [],
   "source": [
    "import math\n",
    "\n",
    "from fuzzywuzzy import fuzz\n",
    "import googlemaps\n",
    "import pandas as pd\n",
    "\n",
    "from heatmaps.find_addresses import find_addresses\n",
    "from heatmaps.helper.get_api_key import get_google_api_key"
   ]
  },
  {
   "cell_type": "code",
   "execution_count": 2,
   "metadata": {},
   "outputs": [],
   "source": [
    "df_in = pd.read_csv('../../../data/atlanta/atlanta_heatmap_companies.csv')\n",
    "df = pd.read_csv('../../../data/atlanta/atlanta_out_neigh.csv')"
   ]
  },
  {
   "cell_type": "code",
   "execution_count": 3,
   "metadata": {},
   "outputs": [],
   "source": [
    "gmaps = googlemaps.Client(key=get_google_api_key())"
   ]
  },
  {
   "cell_type": "code",
   "execution_count": 4,
   "metadata": {},
   "outputs": [
    {
     "name": "stdout",
     "output_type": "stream",
     "text": [
      "Georgia State University Office of Undergraduate Admissions\n",
      "    ['school', 'point_of_interest', 'establishment']\n",
      "    33 Gilmer St SE, Sparks, Hall, Suite 200, Atlanta, GA 30303, United States\n",
      "Georgia State University: Office of the Associate Provost for Academic Programs\n",
      "    ['university', 'point_of_interest', 'establishment']\n",
      "    75 Piedmont Ave NE, Atlanta, GA 30303, United States\n",
      "Georgia State University International Student and Scholar Services\n",
      "    ['point_of_interest', 'establishment']\n",
      "    Sparks Hall - Room 252 ISSS, Georgia State University, 33 Gilmer St SE, Atlanta, GA 30303, United States\n",
      "University Career Services (GSU)\n",
      "    ['health', 'point_of_interest', 'establishment']\n",
      "    66 Courtland St. SE, Student Center West Room 270, Atlanta, GA 30303, United States\n",
      "Georgia State University-Andrew Young School of Policy Studies\n",
      "    ['university', 'point_of_interest', 'establishment']\n",
      "    14 Marietta St NW, Atlanta, GA 30303, United States\n"
     ]
    }
   ],
   "source": [
    "result = gmaps.places(\n",
    "    f\"Georgia State University office in Atlanta GA \",\n",
    "    )\n",
    "for x in result['results'][:5]:\n",
    "    print(x['name'])\n",
    "    print(f\"    {x['types']}\")\n",
    "    print(f\"    {x['formatted_address']}\")"
   ]
  },
  {
   "cell_type": "code",
   "execution_count": 12,
   "metadata": {},
   "outputs": [
    {
     "name": "stdout",
     "output_type": "stream",
     "text": [
      "[{'address_components': [{'long_name': '705', 'short_name': '705', 'types': ['street_number']}, {'long_name': 'Northeast 148th Street', 'short_name': 'NE 148th St', 'types': ['route']}, {'long_name': 'Vancouver', 'short_name': 'Vancouver', 'types': ['locality', 'political']}, {'long_name': 'Clark County', 'short_name': 'Clark County', 'types': ['administrative_area_level_2', 'political']}, {'long_name': 'Washington', 'short_name': 'WA', 'types': ['administrative_area_level_1', 'political']}, {'long_name': 'United States', 'short_name': 'US', 'types': ['country', 'political']}, {'long_name': '98685', 'short_name': '98685', 'types': ['postal_code']}, {'long_name': '5744', 'short_name': '5744', 'types': ['postal_code_suffix']}], 'formatted_address': '705 NE 148th St, Vancouver, WA 98685, USA', 'geometry': {'bounds': {'northeast': {'lat': 45.72814470000001, 'lng': -122.6636771}, 'southwest': {'lat': 45.7280172, 'lng': -122.663961}}, 'location': {'lat': 45.7280508, 'lng': -122.663832}, 'location_type': 'ROOFTOP', 'viewport': {'northeast': {'lat': 45.7294299302915, 'lng': -122.6624700697085}, 'southwest': {'lat': 45.7267319697085, 'lng': -122.6651680302915}}}, 'place_id': 'ChIJGV4gn5GtlVQRFhMQAM5h_rA', 'types': ['premise']}]\n"
     ]
    }
   ],
   "source": [
    "geo_loc = gmaps.geocode(\"705 NE 148th st, vancouver WA 98685\")\n",
    "print(geo_loc)"
   ]
  },
  {
   "cell_type": "raw",
   "metadata": {},
   "source": [
    "df_in[df_in['industry'] == 'Alternative Medicine'].head(20)"
   ]
  },
  {
   "cell_type": "code",
   "execution_count": 6,
   "metadata": {},
   "outputs": [
    {
     "data": {
      "text/plain": [
       "100"
      ]
     },
     "execution_count": 6,
     "metadata": {},
     "output_type": "execute_result"
    }
   ],
   "source": [
    "fuzz.token_set_ratio(\"the home depot\", \"home depot\")"
   ]
  },
  {
   "cell_type": "code",
   "execution_count": 7,
   "metadata": {},
   "outputs": [],
   "source": [
    "blocklist = ['store', 'gas_station', 'cafe', 'doctor', 'lawyer', 'fire_station']\n",
    "blocklist_store = [x for x in blocklist if x != 'store']\n",
    "blocklist_dctr =  [x for x in blocklist if x != 'doctor']\n",
    "blocklist_lwyr =  [x for x in blocklist if x != 'lawyer']"
   ]
  },
  {
   "cell_type": "code",
   "execution_count": 8,
   "metadata": {},
   "outputs": [
    {
     "data": {
      "text/plain": [
       "['store', 'gas_station', 'cafe', 'doctor', 'fire_station']"
      ]
     },
     "execution_count": 8,
     "metadata": {},
     "output_type": "execute_result"
    }
   ],
   "source": [
    "blocklist_lwyr"
   ]
  },
  {
   "cell_type": "code",
   "execution_count": 9,
   "metadata": {},
   "outputs": [],
   "source": [
    "doople = (\"cat\", 1, \"ten\")\n",
    "doople = False"
   ]
  },
  {
   "cell_type": "code",
   "execution_count": 10,
   "metadata": {},
   "outputs": [],
   "source": [
    "if doople:\n",
    "    print(\"yay\")"
   ]
  },
  {
   "cell_type": "code",
   "execution_count": null,
   "metadata": {},
   "outputs": [],
   "source": []
  }
 ],
 "metadata": {
  "kernelspec": {
   "display_name": "Python 3",
   "language": "python",
   "name": "python3"
  },
  "language_info": {
   "codemirror_mode": {
    "name": "ipython",
    "version": 3
   },
   "file_extension": ".py",
   "mimetype": "text/x-python",
   "name": "python",
   "nbconvert_exporter": "python",
   "pygments_lexer": "ipython3",
   "version": "3.9.2"
  }
 },
 "nbformat": 4,
 "nbformat_minor": 4
}
