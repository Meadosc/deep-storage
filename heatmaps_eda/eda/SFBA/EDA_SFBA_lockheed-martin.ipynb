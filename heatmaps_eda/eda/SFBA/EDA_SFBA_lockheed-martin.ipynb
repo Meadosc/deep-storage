{
 "cells": [
  {
   "cell_type": "markdown",
   "id": "neutral-nitrogen",
   "metadata": {
    "tags": []
   },
   "source": [
    "# Lockheed-Martin SFBA google search EDA"
   ]
  },
  {
   "cell_type": "code",
   "execution_count": 1,
   "id": "combined-listing",
   "metadata": {},
   "outputs": [],
   "source": [
    "import googlemaps\n",
    "import pandas as pd\n",
    "\n",
    "from heatmaps.helper.get_api_key import get_google_api_key"
   ]
  },
  {
   "cell_type": "code",
   "execution_count": 2,
   "id": "backed-documentary",
   "metadata": {},
   "outputs": [],
   "source": [
    "gmaps = googlemaps.Client(key=get_google_api_key())"
   ]
  },
  {
   "cell_type": "markdown",
   "id": "norwegian-coordination",
   "metadata": {},
   "source": [
    "## Seach using .places\n",
    "This will return multiple places"
   ]
  },
  {
   "cell_type": "code",
   "execution_count": 4,
   "id": "detailed-organ",
   "metadata": {},
   "outputs": [
    {
     "name": "stdout",
     "output_type": "stream",
     "text": [
      "Lockheed Martin\n",
      "    ['point_of_interest', 'establishment']\n",
      "    1111 Lockheed Martin Way, Sunnyvale, CA 94089, United States\n"
     ]
    }
   ],
   "source": [
    "result = gmaps.places(\n",
    "    f\"lockheed-martin office in fremont CA \",\n",
    "    )\n",
    "\n",
    "for x in result['results']:\n",
    "    print(x['name'])\n",
    "    print(f\"    {x['types']}\")\n",
    "    print(f\"    {x['formatted_address']}\")"
   ]
  },
  {
   "cell_type": "markdown",
   "id": "floppy-rental",
   "metadata": {},
   "source": [
    "## Insights from above data\n",
    "Same results and conclusions as apple and tesla. Good.\n",
    "\n",
    "-------------------------------------------"
   ]
  },
  {
   "cell_type": "code",
   "execution_count": null,
   "id": "front-brown",
   "metadata": {},
   "outputs": [],
   "source": []
  }
 ],
 "metadata": {
  "kernelspec": {
   "display_name": "Python 3",
   "language": "python",
   "name": "python3"
  },
  "language_info": {
   "codemirror_mode": {
    "name": "ipython",
    "version": 3
   },
   "file_extension": ".py",
   "mimetype": "text/x-python",
   "name": "python",
   "nbconvert_exporter": "python",
   "pygments_lexer": "ipython3",
   "version": "3.9.2"
  }
 },
 "nbformat": 4,
 "nbformat_minor": 5
}
